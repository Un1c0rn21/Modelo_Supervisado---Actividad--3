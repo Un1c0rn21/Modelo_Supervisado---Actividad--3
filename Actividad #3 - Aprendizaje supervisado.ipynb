{
 "cells": [
  {
   "cell_type": "code",
   "execution_count": 1,
   "id": "4ec55146",
   "metadata": {},
   "outputs": [],
   "source": [
    "import csv"
   ]
  },
  {
   "cell_type": "code",
   "execution_count": 2,
   "id": "883f0f2d",
   "metadata": {},
   "outputs": [
    {
     "name": "stdout",
     "output_type": "stream",
     "text": [
      "OrderedDict([('rutas A', '5;3;3;2;12000;13;Autobus (1);'), ('B', None), ('C', None), ('D;;;;peso(kg);distancia del trayecto;codigo_Autobus;', None)])\n",
      "OrderedDict([('rutas A', '3;3;5;1;12000;12;Autobus (2);'), ('B', None), ('C', None), ('D;;;;peso(kg);distancia del trayecto;codigo_Autobus;', None)])\n",
      "OrderedDict([('rutas A', '1;1;1;1;12000;4;Autobus (3);'), ('B', None), ('C', None), ('D;;;;peso(kg);distancia del trayecto;codigo_Autobus;', None)])\n",
      "OrderedDict([('rutas A', '4;2;1;1;12000;8;Autobus (4);'), ('B', None), ('C', None), ('D;;;;peso(kg);distancia del trayecto;codigo_Autobus;', None)])\n",
      "OrderedDict([('rutas A', ';;;;;;;'), ('B', None), ('C', None), ('D;;;;peso(kg);distancia del trayecto;codigo_Autobus;', None)])\n",
      "OrderedDict([('rutas A', ';;;;;;;'), ('B', None), ('C', None), ('D;;;;peso(kg);distancia del trayecto;codigo_Autobus;', None)])\n",
      "OrderedDict([('rutas A', ';;;;;;;'), ('B', None), ('C', None), ('D;;;;peso(kg);distancia del trayecto;codigo_Autobus;', None)])\n",
      "OrderedDict([('rutas A', ';;;;;;;'), ('B', None), ('C', None), ('D;;;;peso(kg);distancia del trayecto;codigo_Autobus;', None)])\n",
      "OrderedDict([('rutas A', ';;;;;;;'), ('B', None), ('C', None), ('D;;;;peso(kg);distancia del trayecto;codigo_Autobus;', None)])\n",
      "OrderedDict([('rutas A', ';;;;;;;'), ('B', None), ('C', None), ('D;;;;peso(kg);distancia del trayecto;codigo_Autobus;', None)])\n",
      "OrderedDict([('rutas A', ';;;;;;;'), ('B', None), ('C', None), ('D;;;;peso(kg);distancia del trayecto;codigo_Autobus;', None)])\n",
      "OrderedDict([('rutas A', ';;;;;;;'), ('B', None), ('C', None), ('D;;;;peso(kg);distancia del trayecto;codigo_Autobus;', None)])\n"
     ]
    }
   ],
   "source": [
    "pathArchivoCSV='C:/Users/mauri/Desktop/actividad ia/DATASET.csv'\n",
    "\n",
    "#newline lectura linea a linea\n",
    "with open(pathArchivoCSV, newline=\"\") as archivo01:\n",
    "\n",
    "    #Con delimiter definimos la estructura de nuestro archivo, separado por comas \n",
    "    #csv.DictReader para diccionarios, csv.reader para listas\n",
    "    lecturaDeCampos=csv.DictReader(archivo01, delimiter=\",\")\n",
    "    \n",
    "    for RecorridoDeFila in lecturaDeCampos:\n",
    "        \n",
    "        print(RecorridoDeFila)"
   ]
  },
  {
   "cell_type": "code",
   "execution_count": 3,
   "id": "4baf7d6d",
   "metadata": {},
   "outputs": [],
   "source": [
    "from sklearn import tree\n",
    "\n",
    "caracteristicas = [[5,3,3,1,12000,13],[3,3,5,1,12000,12],[1,1,1,1,12000,4],[4,2,1,1,12000,8]]\n",
    "labels = [1,2,3,4]"
   ]
  },
  {
   "cell_type": "code",
   "execution_count": 4,
   "id": "dcf1cab6",
   "metadata": {},
   "outputs": [
    {
     "name": "stdout",
     "output_type": "stream",
     "text": [
      "[2]\n"
     ]
    }
   ],
   "source": [
    "classifier = tree.DecisionTreeClassifier()\n",
    "classifier.fit(caracteristicas, labels)\n",
    "res = classifier.predict([[3,3,5,1,12000,12]])\n",
    "\n",
    "print(res)"
   ]
  },
  {
   "cell_type": "code",
   "execution_count": null,
   "id": "474ad793",
   "metadata": {},
   "outputs": [],
   "source": []
  }
 ],
 "metadata": {
  "kernelspec": {
   "display_name": "Python 3 (ipykernel)",
   "language": "python",
   "name": "python3"
  },
  "language_info": {
   "codemirror_mode": {
    "name": "ipython",
    "version": 3
   },
   "file_extension": ".py",
   "mimetype": "text/x-python",
   "name": "python",
   "nbconvert_exporter": "python",
   "pygments_lexer": "ipython3",
   "version": "3.7.6"
  }
 },
 "nbformat": 4,
 "nbformat_minor": 5
}
