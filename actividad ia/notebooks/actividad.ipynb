{
 "cells": [
  {
   "cell_type": "markdown",
   "id": "7db358e0",
   "metadata": {},
   "source": [
    "# Sistema de transporte publico (ruta mas viable)\n"
   ]
  },
  {
   "cell_type": "code",
   "execution_count": 1,
   "id": "31165c54",
   "metadata": {},
   "outputs": [],
   "source": [
    "from sklearn import tree\n",
    "\n",
    "caracteristicas = [[7,0.6,40],[7,0.6,41],[37,0.8,37],[37,0.8,38]]\n",
    "labels = [0,0,1,1]"
   ]
  },
  {
   "cell_type": "code",
   "execution_count": 2,
   "id": "09872f81",
   "metadata": {
    "scrolled": true
   },
   "outputs": [
    {
     "name": "stdout",
     "output_type": "stream",
     "text": [
      "[0]\n"
     ]
    }
   ],
   "source": [
    "classifier = tree.DecisionTreeClassifier()\n",
    "classifier.fit(caracteristicas, labels)\n",
    "res = classifier.predict([[7,0.8,40]])\n",
    "\n",
    "print(res)"
   ]
  },
  {
   "cell_type": "code",
   "execution_count": null,
   "id": "b788f5a2",
   "metadata": {},
   "outputs": [],
   "source": []
  }
 ],
 "metadata": {
  "kernelspec": {
   "display_name": "Python 3 (ipykernel)",
   "language": "python",
   "name": "python3"
  },
  "language_info": {
   "codemirror_mode": {
    "name": "ipython",
    "version": 3
   },
   "file_extension": ".py",
   "mimetype": "text/x-python",
   "name": "python",
   "nbconvert_exporter": "python",
   "pygments_lexer": "ipython3",
   "version": "3.7.6"
  }
 },
 "nbformat": 4,
 "nbformat_minor": 5
}
